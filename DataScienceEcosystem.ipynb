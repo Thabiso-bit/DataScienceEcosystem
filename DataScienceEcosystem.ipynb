{
 "cells": [
  {
   "cell_type": "markdown",
   "id": "4086a1dd-f61b-4d2e-a6a1-071dd9e3d5c3",
   "metadata": {},
   "source": [
    "# Data Science Tools and Ecosystem"
   ]
  },
  {
   "cell_type": "markdown",
   "id": "b6c85b31-3688-46db-9918-6b8c68fc9951",
   "metadata": {},
   "source": [
    "In this notebook, Data Science Tools and Ecosystem are summarized."
   ]
  },
  {
   "cell_type": "markdown",
   "id": "b1c6603a-8abe-4ebb-88ba-b4638b4f403b",
   "metadata": {},
   "source": [
    "**Objectives:**"
   ]
  },
  {
   "cell_type": "markdown",
   "id": "20187b3d-de81-4267-8a59-b6f8f42c7c11",
   "metadata": {},
   "source": [
    "* List popular languages\n",
    "* List popular libraries\n",
    "* List Data Science tools\n",
    "* Show how to evaluate arithmetic expressions\n",
    " "
   ]
  },
  {
   "cell_type": "markdown",
   "id": "613fad14-8f1f-4629-bee3-e63c0073a9da",
   "metadata": {},
   "source": [
    "Some of the popular languages that Data Scientists use are:\n",
    "1. Python\n",
    "2. R\n",
    "3. Julia"
   ]
  },
  {
   "cell_type": "markdown",
   "id": "8410c719-a599-4cac-ab7d-2c8d22cbb6a7",
   "metadata": {},
   "source": [
    "Some of the commonly used libraries used by data scientists are:\n",
    "1. Pandas\n",
    "2. NumPy\n",
    "3. Matplotlib"
   ]
  },
  {
   "cell_type": "markdown",
   "id": "69631056-602b-4562-80e1-ca5099d9ad99",
   "metadata": {},
   "source": [
    "|Data Science tools|\n",
    "|---|\n",
    "| Jupyter Notebook|\n",
    "| RStudio|\n",
    "| VS Code|"
   ]
  },
  {
   "cell_type": "markdown",
   "id": "f68d1a5b-b47c-4cad-927c-22ec3f849c9b",
   "metadata": {},
   "source": [
    "### Below are a few examples of evaluating arithmetic expressions in Python"
   ]
  },
  {
   "cell_type": "markdown",
   "id": "01aee295-be1a-4760-9af6-df573b4c9f19",
   "metadata": {},
   "source": [
    "This is a simple arithmetic expression to multiply then add integers"
   ]
  },
  {
   "cell_type": "code",
   "execution_count": 44,
   "id": "655aff7b-d644-4cc2-b168-e56703e08f94",
   "metadata": {},
   "outputs": [],
   "source": [
    "A=3\n",
    "B=4\n",
    "C=5"
   ]
  },
  {
   "cell_type": "code",
   "execution_count": 46,
   "id": "f52c8650-6f6f-429b-b52e-9ae871617df8",
   "metadata": {},
   "outputs": [
    {
     "data": {
      "text/plain": [
       "17"
      ]
     },
     "execution_count": 46,
     "metadata": {},
     "output_type": "execute_result"
    }
   ],
   "source": [
    "(A*B)+C"
   ]
  },
  {
   "cell_type": "markdown",
   "id": "7cd934a2-44bd-4f7d-b055-dc235ad893e9",
   "metadata": {},
   "source": [
    "This will convert 200minutes to hours by dividing by 60"
   ]
  },
  {
   "cell_type": "code",
   "execution_count": 49,
   "id": "b8d6d622-d979-4251-9168-4d92292bc6f1",
   "metadata": {},
   "outputs": [],
   "source": [
    "D=200"
   ]
  },
  {
   "cell_type": "code",
   "execution_count": 51,
   "id": "0ff4e1c5-ea1f-4792-b667-5d58b2ed0fee",
   "metadata": {},
   "outputs": [
    {
     "data": {
      "text/plain": [
       "3.3333333333333335"
      ]
     },
     "execution_count": 51,
     "metadata": {},
     "output_type": "execute_result"
    }
   ],
   "source": [
    "D/60"
   ]
  },
  {
   "cell_type": "markdown",
   "id": "9d026089-8958-45ec-8392-a2fe6d5658bd",
   "metadata": {},
   "source": [
    "## Author"
   ]
  },
  {
   "cell_type": "markdown",
   "id": "e746732f-ef99-42e1-be24-7056306cb224",
   "metadata": {},
   "source": [
    "Thabiso Tshuma"
   ]
  },
  {
   "cell_type": "code",
   "execution_count": null,
   "id": "d9d291d9-7b2e-4561-b2bc-0bde06d9f4c1",
   "metadata": {},
   "outputs": [],
   "source": []
  }
 ],
 "metadata": {
  "kernelspec": {
   "display_name": "Python 3 (ipykernel)",
   "language": "python",
   "name": "python3"
  },
  "language_info": {
   "codemirror_mode": {
    "name": "ipython",
    "version": 3
   },
   "file_extension": ".py",
   "mimetype": "text/x-python",
   "name": "python",
   "nbconvert_exporter": "python",
   "pygments_lexer": "ipython3",
   "version": "3.12.4"
  }
 },
 "nbformat": 4,
 "nbformat_minor": 5
}
